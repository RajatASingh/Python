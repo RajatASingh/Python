{
  "nbformat": 4,
  "nbformat_minor": 0,
  "metadata": {
    "colab": {
      "name": "Untitled0.ipynb",
      "provenance": [],
      "authorship_tag": "ABX9TyMfaKcXK/vm56ZFBH6I27mJ",
      "include_colab_link": true
    },
    "kernelspec": {
      "name": "python3",
      "display_name": "Python 3"
    },
    "language_info": {
      "name": "python"
    }
  },
  "cells": [
    {
      "cell_type": "markdown",
      "metadata": {
        "id": "view-in-github",
        "colab_type": "text"
      },
      "source": [
        "<a href=\"https://colab.research.google.com/github/SRajat11/Python/blob/main/str_and_loop.ipynb\" target=\"_parent\"><img src=\"https://colab.research.google.com/assets/colab-badge.svg\" alt=\"Open In Colab\"/></a>"
      ]
    },
    {
      "cell_type": "markdown",
      "source": [
        "### Q.1. Given a sentence as input, calculate and output the average word length of that sentence.To calculate the average word length, you need to divide the sum of all word lengths by the number of words in the sentence.\n",
        "\n",
        "<font color = red> **Sample Input:** </font> <br>\n",
        "   this is some text \n",
        "\n",
        "<font color= red> **Sample Output:** </font> <br>\n",
        "3.5\n",
        "\n",
        "<font color=red> **Explanation:** </font> <br>\n",
        "  _There are 4 words in the given input, with a total of 14 letters, so the average length will be: 14/4 = 3.5_ "
      ],
      "metadata": {
        "id": "0pvuIPxmX1iV"
      }
    },
    {
      "cell_type": "code",
      "source": [
        "\n",
        "taken_input = input()\n",
        "# Given input is \"This is some text\"\n",
        "\n",
        "str_split = taken_input.split() \n",
        "# Split function helps us to separate string after space, which makes it easy to count a number of words in a sentence. \n",
        "\n",
        "replace_space = taken_input.replace(\" \",\"\")\n",
        "# Replace function is used to replace something in a syntax. Here we are replacing spaces with no spaces to find of the length of a sentence. \n",
        "avg_of_word = (len(replace_space)/len(str_split))\n",
        "\n",
        "print (avg_of_word)\n",
        "                         "
      ],
      "metadata": {
        "id": "UMUa4kkGXvct"
      },
      "execution_count": null,
      "outputs": []
    },
    {
      "cell_type": "markdown",
      "source": [
        "#### <font color= green>  Source: SOLOLEARN (python basics) </font>\n",
        "\n",
        "####  <font color= olive>  _Issues which I faced while solving this problem:_ </font>\n",
        "\n",
        "1. While working on this problem! the biggest question was in my mind how to count the exact length of words without counting the spaces in between them.\n",
        "2. While counting the length with the help of len FUNCTION it was also counting spaces in a sentence as length.\n",
        "\n",
        "####  <font color= olive> Approach to solve the above issue </font>\n",
        "1. Replacing the spaces with no spaces ( taken_input.replace(\" \",\"\") ) was the approach in my mind which will work to solve the above issue which I was facing in point number 2. \n"
      ],
      "metadata": {
        "id": "ItnOROodYeMb"
      }
    },
    {
      "cell_type": "code",
      "source": [
        ""
      ],
      "metadata": {
        "id": "AbfefdfrYZy0"
      },
      "execution_count": null,
      "outputs": []
    }
  ]
}