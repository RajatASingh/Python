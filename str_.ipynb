{
  "nbformat": 4,
  "nbformat_minor": 0,
  "metadata": {
    "colab": {
      "name": "Untitled0.ipynb",
      "provenance": [],
      "authorship_tag": "ABX9TyNcQArX4PfjeY1HEqgDdK2G",
      "include_colab_link": true
    },
    "kernelspec": {
      "name": "python3",
      "display_name": "Python 3"
    },
    "language_info": {
      "name": "python"
    }
  },
  "cells": [
    {
      "cell_type": "markdown",
      "metadata": {
        "id": "view-in-github",
        "colab_type": "text"
      },
      "source": [
        "<a href=\"https://colab.research.google.com/github/SRajat11/Python/blob/main/str_.ipynb\" target=\"_parent\"><img src=\"https://colab.research.google.com/assets/colab-badge.svg\" alt=\"Open In Colab\"/></a>"
      ]
    },
    {
      "cell_type": "markdown",
      "source": [
        "### Q.1. Given a sentence as input, calculate and output the average word length of that sentence.To calculate the average word length, you need to divide the sum of all word lengths by the number of words in the sentence.\n",
        "\n",
        "**Sample Input:**  <br>\n",
        "   this is some text \n",
        "\n",
        "**Sample Output:** <br>\n",
        "3.5\n",
        "\n",
        "**Explanation:**<br>\n",
        "  _There are 4 words in the given input, with a total of 14 letters, so the average length will be: 14/4 = 3.5_ "
      ],
      "metadata": {
        "id": "0pvuIPxmX1iV"
      }
    },
    {
      "cell_type": "code",
      "source": [
        "\n",
        "taken_input = input()\n",
        "# Given input is \"This is some text\"\n",
        "\n",
        "str_split = taken_input.split() \n",
        "# Split function helps us to separate string after space, which makes it easy to count a number of words in a sentence. \n",
        "\n",
        "replace_space = taken_input.replace(\" \",\"\")\n",
        "# Replace function is used to replace something in a syntax. Here we are replacing spaces with no spaces to find of the length of a sentence. \n",
        "avg_of_word = (len(replace_space)/len(str_split))\n",
        "\n",
        "print (avg_of_word)\n",
        "                         "
      ],
      "metadata": {
        "id": "UMUa4kkGXvct"
      },
      "execution_count": null,
      "outputs": []
    },
    {
      "cell_type": "markdown",
      "source": [
        "#### <font color= green>  Source: SOLOLEARN (python basics) </font>\n",
        "\n",
        "#### <font color= olive>  Issues which I faced while solving this problem: </font>\n",
        "\n",
        "1. While working on this problem! the biggest question was in my mind how to count the exact length of words without counting the spaces in between them.\n",
        "2. While counting the length with the help of len FUNCTION it was also counting spaces in a sentence as length.\n",
        "\n",
        "####  <font color= olive> Approach to solve the above issue </font>\n",
        "1. Replacing the spaces with no spaces ( taken_input.replace(\" \",\"\") ) was the approach in my mind which will work to solve the above issue which I was facing in point number 2. \n"
      ],
      "metadata": {
        "id": "ItnOROodYeMb"
      }
    },
    {
      "cell_type": "markdown",
      "source": [
        "."
      ],
      "metadata": {
        "id": "Gm7fas1DP10W"
      }
    },
    {
      "cell_type": "markdown",
      "source": [
        "### Q.2. Shift equal\n",
        "\n",
        "**Problem Description:**\n",
        "\n",
        "Complete the function check_equal() to return whether the given two strings are the same or not if you are allowed to shift the first character of the second string and attach it to the end of the rightmost character and this can be repeated as many times as required.\n",
        "\n",
        "The function should return 'Same' if the two strings using the above-mentioned shifting operations are the same otherwise it should return 'Not Same'.\n",
        "\n",
        "**Sample input:**\n",
        "\n",
        "```abcde``` <br>\n",
        "```bcdea```\n",
        "\n",
        "**Sample output:**\n",
        "\n",
        "Same\n",
        "\n",
        "**Sample explanation:**\n",
        "\n",
        "On shifting b, c, d, and e to the end of the 2nd string, we get abcde as the output, which is the same as the first string. Hence, Same is returned.\n"
      ],
      "metadata": {
        "id": "ZNoTUBksP3I_"
      }
    },
    {
      "cell_type": "code",
      "source": [
        "def check_equal(str1, str2):\n",
        "    res = \"Same\"\n",
        "    len_of_str1 = len(str1)\n",
        "    dup_str2 = \"\"\n",
        "        \n",
        "    for i in range(len_of_str1):\n",
        "        dup_str2 = str2[1:] + str2[0]\n",
        "        str2 = str2[1:] + str2[0]\n",
        "        if dup_str2 == str1:\n",
        "            break\n",
        "    if dup_str2 == str1:\n",
        "        res = res\n",
        "    else:\n",
        "        res = \"Not Same\"\n",
        "    \n",
        "    return res\n",
        "\n",
        "check_equal('abcde','abdce')"
      ],
      "metadata": {
        "id": "AbfefdfrYZy0",
        "outputId": "44545af7-ab1c-4883-819f-70a709ab363a",
        "colab": {
          "base_uri": "https://localhost:8080/",
          "height": 35
        }
      },
      "execution_count": 5,
      "outputs": [
        {
          "output_type": "execute_result",
          "data": {
            "text/plain": [
              "'Not Same'"
            ],
            "application/vnd.google.colaboratory.intrinsic+json": {
              "type": "string"
            }
          },
          "metadata": {},
          "execution_count": 5
        }
      ]
    },
    {
      "cell_type": "markdown",
      "source": [
        "."
      ],
      "metadata": {
        "id": "S99ZgHxWQt9e"
      }
    },
    {
      "cell_type": "markdown",
      "source": [
        "#### <font color= green>  Source: Scaler </font>"
      ],
      "metadata": {
        "id": "KXh9O7nVQvEb"
      }
    }
  ]
}