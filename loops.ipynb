{
  "cells": [
    {
      "cell_type": "markdown",
      "metadata": {
        "id": "view-in-github",
        "colab_type": "text"
      },
      "source": [
        "<a href=\"https://colab.research.google.com/github/SRajat11/Python/blob/main/loops.ipynb\" target=\"_parent\"><img src=\"https://colab.research.google.com/assets/colab-badge.svg\" alt=\"Open In Colab\"/></a>"
      ]
    },
    {
      "cell_type": "markdown",
      "source": [
        "\n",
        "### **Q.1.**\n",
        "\n",
        "##### **Take a string as input and output each letter of the string on a new line, repeated N times, where N is the position of the letter in the string.**\n",
        "\n",
        "<font color = red> **Sample Input:** </font> <br>\n",
        "data\n",
        "\n",
        "<font color = red> **Sample Output:** </font> <br>\n",
        "d <br>\n",
        "aa <br>\n",
        "t t t <br>\n",
        "aaaa "
      ],
      "metadata": {
        "id": "vjD0FLzDeO3r"
      }
    },
    {
      "cell_type": "markdown",
      "source": [
        "<font color=red> **Solution:** </font>"
      ],
      "metadata": {
        "id": "GY0fnamzfVVr"
      }
    },
    {
      "cell_type": "code",
      "source": [
        "N = \"Data\"       \n",
        "\n",
        "for i in range(len(N)):\n",
        "    print(N[i]* (i +1))"
      ],
      "metadata": {
        "id": "9hbD-D_Me00l",
        "outputId": "ffcd49bf-9f04-4cef-89bf-1a19cd684d3f",
        "colab": {
          "base_uri": "https://localhost:8080/"
        }
      },
      "execution_count": null,
      "outputs": [
        {
          "output_type": "stream",
          "name": "stdout",
          "text": [
            "D\n",
            "aa\n",
            "ttt\n",
            "aaaa\n"
          ]
        }
      ]
    },
    {
      "cell_type": "markdown",
      "source": [
        "#### <font color= green>  Source: SOLOLEARN (python basics) </font>\n",
        "\n",
        "* #### <font color= olive>  _Issues which I faced while solving this problem:_ </font>"
      ],
      "metadata": {
        "id": "FaS7dJWngRKU"
      }
    },
    {
      "cell_type": "markdown",
      "source": [
        ""
      ],
      "metadata": {
        "id": "JiwePNhtfijN"
      }
    },
    {
      "cell_type": "markdown",
      "source": [
        ""
      ],
      "metadata": {
        "id": "31ClbwW2fRRG"
      }
    }
  ],
  "metadata": {
    "colab": {
      "collapsed_sections": [],
      "name": "Welcome To Colaboratory",
      "toc_visible": true,
      "provenance": [],
      "include_colab_link": true
    },
    "kernelspec": {
      "display_name": "Python 3",
      "name": "python3"
    }
  },
  "nbformat": 4,
  "nbformat_minor": 0
}