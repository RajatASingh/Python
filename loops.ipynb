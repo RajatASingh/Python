{
  "cells": [
    {
      "cell_type": "markdown",
      "metadata": {
        "id": "view-in-github",
        "colab_type": "text"
      },
      "source": [
        "<a href=\"https://colab.research.google.com/github/SRajat11/Python/blob/main/loops.ipynb\" target=\"_parent\"><img src=\"https://colab.research.google.com/assets/colab-badge.svg\" alt=\"Open In Colab\"/></a>"
      ]
    },
    {
      "cell_type": "markdown",
      "source": [
        "#### Q.2. Take a string as input and output each letter of the string on a new line, repeated N times, where N is the position of the letter in the string.\n",
        "\n"
      ],
      "metadata": {
        "id": "ZrQqNS_B339H"
      }
    },
    {
      "cell_type": "markdown",
      "source": [
        "<font color = red> **Sample Input:** </font> <br>\n",
        "data\n",
        "\n",
        "<font color = red> **Sample Output:** </font> <br>\n",
        "d <br>\n",
        "aa <br>\n",
        "t t t <br>\n",
        "aaaa \n",
        "\n",
        "<font color=red> **Solution:** </font>"
      ],
      "metadata": {
        "id": "ny7dT9Rt3-os"
      }
    },
    {
      "cell_type": "code",
      "source": [
        "N = \"Data\"       \n",
        "\n",
        "for i in range(len(N)):\n",
        "    print(N[i]* (i +1))"
      ],
      "metadata": {
        "colab": {
          "base_uri": "https://localhost:8080/"
        },
        "id": "h4O_xn0235IZ",
        "outputId": "f09bdf01-1571-41c0-9488-8314333c001f"
      },
      "execution_count": 1,
      "outputs": [
        {
          "output_type": "stream",
          "name": "stdout",
          "text": [
            "D\n",
            "aa\n",
            "ttt\n",
            "aaaa\n"
          ]
        }
      ]
    },
    {
      "cell_type": "markdown",
      "source": [
        "#### <font color= green>  Source: SOLOLEARN (python basics) </font>"
      ],
      "metadata": {
        "id": "w4rcZQD-4UT-"
      }
    },
    {
      "cell_type": "markdown",
      "source": [
        "####  Q.2. You are working on a mapping software. The map is stored as a list of points, where each item is represented as a tuple, containing the X and Y coordinates of the point.\n",
        "#### You need to calculate and output the distance to the closest point from the point (0, 0).\n",
        "#### To calculate the distance of the point (x, y) from (0, 0), use the following formula: √x²+y²\n",
        "\n"
      ],
      "metadata": {
        "id": "Wb9VFU2r5IT6"
      }
    },
    {
      "cell_type": "markdown",
      "source": [
        "<font color = red> **Solution:** <font/>\n"
      ],
      "metadata": {
        "id": "TqyXebWd5Ogu"
      }
    },
    {
      "cell_type": "code",
      "source": [
        "points = [\n",
        "    (12, 55),\n",
        "    (880, 123),\n",
        "    (64, 64),\n",
        "    (190, 1024),\n",
        "    (77, 33),\n",
        "    (42, 11),\n",
        "    (0, 90) ]\n",
        "\n",
        "distance = list(range(len(points)))\n",
        "i = 0\n",
        "import math\n",
        "\n",
        "for (x,y) in points:\n",
        "    distance [i] = math.sqrt((x**2) + (y**2))\n",
        "    i += 1\n",
        "    closest_dis = (min(distance))\n",
        "print(\"{:.2f}\".format(closest_dis))\n",
        "\n"
      ],
      "metadata": {
        "colab": {
          "base_uri": "https://localhost:8080/"
        },
        "id": "LVDk1LZo4NHa",
        "outputId": "3154a63a-4223-48c1-dc83-da3fde76b5f0"
      },
      "execution_count": 2,
      "outputs": [
        {
          "output_type": "stream",
          "name": "stdout",
          "text": [
            "43.42\n"
          ]
        }
      ]
    },
    {
      "cell_type": "code",
      "source": [
        ""
      ],
      "metadata": {
        "id": "g6vl47n25Sfz"
      },
      "execution_count": null,
      "outputs": []
    }
  ],
  "metadata": {
    "colab": {
      "collapsed_sections": [],
      "name": "Welcome To Colaboratory",
      "provenance": [],
      "include_colab_link": true
    },
    "kernelspec": {
      "display_name": "Python 3",
      "name": "python3"
    }
  },
  "nbformat": 4,
  "nbformat_minor": 0
}