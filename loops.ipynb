{
  "cells": [
    {
      "cell_type": "markdown",
      "metadata": {
        "id": "view-in-github",
        "colab_type": "text"
      },
      "source": [
        "<a href=\"https://colab.research.google.com/github/SRajat11/Python/blob/main/loops.ipynb\" target=\"_parent\"><img src=\"https://colab.research.google.com/assets/colab-badge.svg\" alt=\"Open In Colab\"/></a>"
      ]
    },
    {
      "cell_type": "markdown",
      "source": [
        "#### Q.2. Take a string as input and output each letter of the string on a new line, repeated N times, where N is the position of the letter in the string.\n",
        "\n"
      ],
      "metadata": {
        "id": "ZrQqNS_B339H"
      }
    },
    {
      "cell_type": "markdown",
      "source": [
        "<font color = red> **Sample Input:** </font> <br>\n",
        "data\n",
        "\n",
        "<font color = red> **Sample Output:** </font> <br>\n",
        "d <br>\n",
        "aa <br>\n",
        "t t t <br>\n",
        "aaaa \n",
        "\n",
        "<font color=red> **Solution:** </font>"
      ],
      "metadata": {
        "id": "ny7dT9Rt3-os"
      }
    },
    {
      "cell_type": "code",
      "source": [
        "N = \"Data\"       \n",
        "\n",
        "for i in range(len(N)):\n",
        "    print(N[i]* (i +1))"
      ],
      "metadata": {
        "id": "h4O_xn0235IZ",
        "outputId": "f09bdf01-1571-41c0-9488-8314333c001f",
        "colab": {
          "base_uri": "https://localhost:8080/"
        }
      },
      "execution_count": 1,
      "outputs": [
        {
          "output_type": "stream",
          "name": "stdout",
          "text": [
            "D\n",
            "aa\n",
            "ttt\n",
            "aaaa\n"
          ]
        }
      ]
    },
    {
      "cell_type": "markdown",
      "source": [
        ""
      ],
      "metadata": {
        "id": "w4rcZQD-4UT-"
      }
    },
    {
      "cell_type": "code",
      "source": [
        ""
      ],
      "metadata": {
        "id": "LVDk1LZo4NHa"
      },
      "execution_count": null,
      "outputs": []
    }
  ],
  "metadata": {
    "colab": {
      "collapsed_sections": [],
      "name": "Welcome To Colaboratory",
      "provenance": [],
      "include_colab_link": true
    },
    "kernelspec": {
      "display_name": "Python 3",
      "name": "python3"
    }
  },
  "nbformat": 4,
  "nbformat_minor": 0
}