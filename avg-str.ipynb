{
 "cells": [
  {
   "cell_type": "markdown",
   "id": "9c04e7dd",
   "metadata": {},
   "source": [
    "#### Q.1. Given a sentence as input, calculate and output the average word length of that sentence.To calculate the average word length, you need to divide the sum of all word lengths by the number of words in the sentence."
   ]
  },
  {
   "cell_type": "markdown",
   "id": "0ca91578",
   "metadata": {},
   "source": [
    "<font color = red> **Sample Input:** </font> <br>\n",
    "   this is some text \n",
    "\n",
    "<font color= red> **Sample Output:** </font> <br>\n",
    "3.5\n",
    "\n",
    "<font color=red> **Explanation:** </font> <br>\n",
    "  _There are 4 words in the given input, with a total of 14 letters, so the average length will be: 14/4 = 3.5_ "
   ]
  },
  {
   "cell_type": "code",
   "execution_count": null,
   "id": "2ddfb4d0",
   "metadata": {},
   "outputs": [],
   "source": [
    "\n",
    "taken_input = input()\n",
    "# Given input is \"This is some text\"\n",
    "\n",
    "str_split = taken_input.split() \n",
    "# Split function help us to separate string after space, which makes it easy to count number of  words in a sentance. \n",
    "\n",
    "replace_space = taken_input.replace(\" \",\"\")\n",
    "# Replace function is used to replace something in a syntax. Here we are replacing spaces with no spaces to find of length of a sentance. \n",
    "avg_of_word = (len(replace_space)/len(str_split))\n",
    "\n",
    "print (avg_of_word)\n",
    "                         "
   ]
  },
  {
   "cell_type": "markdown",
   "id": "ba3b409e",
   "metadata": {},
   "source": [
    "\n"
   ]
  },
  {
   "cell_type": "markdown",
   "id": "4df8f1df",
   "metadata": {},
   "source": [
    "#### <font color= green>  Sourse: SOLOLEARN (pyhton Basics) </font>\n",
    "\n",
    "* #### <font color= olive>  _Issues which i faced while solving this problem:_ </font>\n",
    "\n",
    "1. While working on this problem! the biggest question was in my mind how to count the exact length of words without counting the spaces in between them.\n",
    "2. While counting the length with the help of len FUNCTION it was also counting spaces in a sentence as length.\n",
    "\n",
    "####  <font color= olive> Approch to solve the above issue </font>\n",
    "1. Replacing the spaces with no spaces ( taken_input.replace(\" \",\"\") ) was the approach in my mind which will work to solve the above issue which I was facing in point number 2. \n"
   ]
  },
  {
   "cell_type": "code",
   "execution_count": null,
   "id": "e46041ad",
   "metadata": {},
   "outputs": [],
   "source": [
    "\n"
   ]
  },
  {
   "cell_type": "markdown",
   "id": "15d25506",
   "metadata": {},
   "source": [
    "#### Q.2. Take a string as input and output each letter of the string on a new line, repeated N times, where N is the position of the letter in the string.\n",
    "\n"
   ]
  },
  {
   "cell_type": "markdown",
   "id": "3e170514",
   "metadata": {},
   "source": [
    "<font color = red> **Sample Input:** </font> <br>\n",
    "data\n",
    "\n",
    "<font color = red> **Sample Output:** </font> <br>\n",
    "d <br>\n",
    "aa <br>\n",
    "t t t <br>\n",
    "aaaa "
   ]
  },
  {
   "cell_type": "markdown",
   "id": "813ec313",
   "metadata": {},
   "source": [
    "<font color=red> **Solution:** </font>"
   ]
  },
  {
   "cell_type": "code",
   "execution_count": 1,
   "id": "58c06b9c",
   "metadata": {},
   "outputs": [
    {
     "name": "stdout",
     "output_type": "stream",
     "text": [
      "D\n",
      "aa\n",
      "ttt\n",
      "aaaa\n"
     ]
    }
   ],
   "source": [
    "N = \"Data\"       \n",
    "\n",
    "for i in range(len(N)):\n",
    "    print(N[i]* (i +1))"
   ]
  },
  {
   "cell_type": "code",
   "execution_count": null,
   "id": "cd3d5f42",
   "metadata": {},
   "outputs": [],
   "source": []
  }
 ],
 "metadata": {
  "kernelspec": {
   "display_name": "Python 3 (ipykernel)",
   "language": "python",
   "name": "python3"
  },
  "language_info": {
   "codemirror_mode": {
    "name": "ipython",
    "version": 3
   },
   "file_extension": ".py",
   "mimetype": "text/x-python",
   "name": "python",
   "nbconvert_exporter": "python",
   "pygments_lexer": "ipython3",
   "version": "3.9.12"
  }
 },
 "nbformat": 4,
 "nbformat_minor": 5
}
