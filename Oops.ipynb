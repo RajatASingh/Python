{
  "cells": [
    {
      "cell_type": "markdown",
      "metadata": {
        "id": "view-in-github",
        "colab_type": "text"
      },
      "source": [
        "<a href=\"https://colab.research.google.com/github/SRajat11/Python/blob/main/Oops.ipynb\" target=\"_parent\"><img src=\"https://colab.research.google.com/assets/colab-badge.svg\" alt=\"Open In Colab\"/></a>"
      ]
    },
    {
      "cell_type": "markdown",
      "source": [
        "### Q.1. Total electricity bill\n",
        "\n",
        "Create a class Bill and initialize it with details, previous meter reading and current meter reading. Create a function total_bill() inside Bill class which returns the total bill based on the following criteria:\n",
        "<br>\n",
        "\n",
        "1.For the first 100 units consumed: 3.5 rs/unit\n",
        "\n",
        "2.For next 100 units consumed : 5 rs/unit\n",
        "\n",
        "3.For remaining units consumed: 8 rs/unit\n",
        "\n",
        "4.Meter Charges: 150 rs (It's included only once but is mandatory)\n",
        "<br>\n",
        "\n",
        "**Example input:** <br>\n",
        "\n",
        "```200 650```\n",
        "\n",
        "**Example output:** <br>\n",
        "\n",
        "```3000.0```\n",
        "\n",
        "\n",
        "***Example explanation:***\n",
        "\n",
        "```previous_read= 200``` <br>\n",
        "```current_read= 650``` <br>\n",
        "```Unit_consumed= 650-200 = 450``` <br>\n",
        "```total_bill = 100*3.5 + 100*5 + 250*8 + 150(meter charges)= 3000.0 (output will be float)```"
      ],
      "metadata": {
        "id": "ORJDqyjXnwpe"
      }
    },
    {
      "cell_type": "code",
      "source": [
        "class Bill():\n",
        "\n",
        "    def __init__(self, prev_read, cur_read):\n",
        "        self.prev = prev_read\n",
        "        self.cur = cur_read   \n",
        "            \n",
        "    def total_bill(self):\n",
        "        total=0\n",
        "        unit_consumed = self.cur - self.prev\n",
        "        \n",
        "        if unit_consumed <= 100:\n",
        "            total = (unit_consumed * 3.5) + 150\n",
        "        elif unit_consumed <= 200:\n",
        "            unit_consumed -= 100\n",
        "            total = (100 * 3.5) + (unit_consumed * 5) + 150    \n",
        "        else:\n",
        "            if unit_consumed > 200:\n",
        "                first_100_and_secound = (100*3.5) + (100 *5)\n",
        "                unit_consumed  = (unit_consumed - 200) * 8\n",
        "            total = first_100_and_secound + unit_consumed + 150\n",
        "        \n",
        "        return total\n",
        "\n",
        "A = Bill(200,650)\n",
        "\n",
        "print(A.total_bill())"
      ],
      "metadata": {
        "colab": {
          "base_uri": "https://localhost:8080/"
        },
        "id": "YiF-UFejoL4X",
        "outputId": "d042890d-4d08-4a5b-ed06-21aa255602cd"
      },
      "execution_count": 2,
      "outputs": [
        {
          "output_type": "stream",
          "name": "stdout",
          "text": [
            "3000.0\n"
          ]
        }
      ]
    },
    {
      "cell_type": "code",
      "source": [
        ""
      ],
      "metadata": {
        "id": "M5m8Ff_qo0P9"
      },
      "execution_count": null,
      "outputs": []
    }
  ],
  "metadata": {
    "colab": {
      "collapsed_sections": [],
      "name": "Welcome to Colaboratory",
      "provenance": [],
      "include_colab_link": true
    },
    "kernelspec": {
      "display_name": "Python 3",
      "name": "python3"
    }
  },
  "nbformat": 4,
  "nbformat_minor": 0
}